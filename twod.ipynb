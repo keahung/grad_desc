{
 "cells": [
  {
   "cell_type": "code",
   "execution_count": 85,
   "metadata": {},
   "outputs": [],
   "source": [
    "import numpy as np\n",
    "import numpy.fft as fft\n",
    "import matplotlib.pyplot as plt\n",
    "from scipy import signal\n",
    "from IPython import display\n",
    "from PIL import Image\n",
    "import math\n",
    "\n",
    "%matplotlib inline"
   ]
  },
  {
   "cell_type": "code",
   "execution_count": 91,
   "metadata": {},
   "outputs": [],
   "source": [
    "# number of points\n",
    "n = 5\n",
    "\n",
    "# range of points\n",
    "r = 50\n",
    "\n",
    "# number of images\n",
    "m = 3"
   ]
  },
  {
   "cell_type": "code",
   "execution_count": 92,
   "metadata": {},
   "outputs": [],
   "source": [
    "np.random.seed(805764)\n",
    "\n",
    "lst = list(range(0, r + 1))\n",
    "\n",
    "# psf\n",
    "h = np.sort(np.hstack((np.random.choice(lst, (n, 1)), np.random.choice(lst, (n, 1)))), axis=0)\n",
    "\n",
    "# each image\n",
    "v = np.empty((m, n, 2))\n",
    "for i in range(m):\n",
    "    v[i] = np.sort(np.hstack((np.random.choice(lst, (n, 1)), np.random.choice(lst, (n, 1)))), axis=0)"
   ]
  },
  {
   "cell_type": "code",
   "execution_count": 93,
   "metadata": {},
   "outputs": [],
   "source": [
    "# calculated convolutions\n",
    "b = np.empty((m, 2, n, n))\n",
    "\n",
    "# Each x, y dimension\n",
    "for i in range(2):\n",
    "    # Each point of (x, y) in h\n",
    "    for j in range(n):\n",
    "        # Each point of (x, y) in v\n",
    "        for k in range(n):\n",
    "            for l in range(m):\n",
    "                b[l, i, j, k] = h[j, i] + v[l, k, i]\n",
    "\n",
    "# Each b is a (x, y) list of points of where it's 1\n",
    "b_temp = np.empty((m, n * n, 2))\n",
    "for i in range(m):\n",
    "    b_temp[i] = np.hstack((np.reshape(b[i][0], (b[i].shape[1] * b[i].shape[2], 1)), np.reshape(b[i][1], (b[i].shape[1] * b[i].shape[2], 1))))\n",
    "    \n",
    "b = b_temp"
   ]
  },
  {
   "cell_type": "code",
   "execution_count": 94,
   "metadata": {},
   "outputs": [
    {
     "name": "stdout",
     "output_type": "stream",
     "text": [
      "[[1 0 0 0 0 1 0 0 0 0]\n",
      " [1 0 0 0 0 0 1 0 0 0]\n",
      " [1 0 0 0 0 0 0 1 0 0]\n",
      " [1 0 0 0 0 0 0 0 1 0]\n",
      " [1 0 0 0 0 0 0 0 0 1]\n",
      " [0 1 0 0 0 1 0 0 0 0]\n",
      " [0 1 0 0 0 0 1 0 0 0]\n",
      " [0 1 0 0 0 0 0 1 0 0]\n",
      " [0 1 0 0 0 0 0 0 1 0]\n",
      " [0 1 0 0 0 0 0 0 0 1]\n",
      " [0 0 1 0 0 1 0 0 0 0]\n",
      " [0 0 1 0 0 0 1 0 0 0]\n",
      " [0 0 1 0 0 0 0 1 0 0]\n",
      " [0 0 1 0 0 0 0 0 1 0]\n",
      " [0 0 1 0 0 0 0 0 0 1]\n",
      " [0 0 0 1 0 1 0 0 0 0]\n",
      " [0 0 0 1 0 0 1 0 0 0]\n",
      " [0 0 0 1 0 0 0 1 0 0]\n",
      " [0 0 0 1 0 0 0 0 1 0]\n",
      " [0 0 0 1 0 0 0 0 0 1]\n",
      " [0 0 0 0 1 1 0 0 0 0]\n",
      " [0 0 0 0 1 0 1 0 0 0]\n",
      " [0 0 0 0 1 0 0 1 0 0]\n",
      " [0 0 0 0 1 0 0 0 1 0]\n",
      " [0 0 0 0 1 0 0 0 0 1]\n",
      " [0 0 0 0 0 1 0 0 0 0]]\n"
     ]
    }
   ],
   "source": [
    "A1 = np.eye(n).repeat(n, axis = 0).astype('uint8')\n",
    "A2 = np.tile(np.eye(n), (n, 1)).astype('uint8')\n",
    "A3 = np.zeros((1, 2 * n)).astype('uint8')\n",
    "A3[0, n] = 1\n",
    "A = np.vstack((np.hstack((A1, A2)), A3))\n",
    "print(A)\n",
    "\n",
    "vec = np.random.permutation(n * n)\n",
    "rness = n"
   ]
  },
  {
   "cell_type": "code",
   "execution_count": 95,
   "metadata": {},
   "outputs": [
    {
     "name": "stdout",
     "output_type": "stream",
     "text": [
      "initial: 95.78517630614876\n",
      "iteration 0\n",
      "improved: 94.50079364746097\n",
      "improved: 86.50271672034353\n",
      "improved: 86.47635514983271\n",
      "improved: 85.99581385160559\n",
      "improved: 77.87682582129294\n",
      "improved: 77.80899690909786\n",
      "improved: 77.71486344323073\n",
      "iteration 1\n",
      "iteration 2\n",
      "improved: 77.36821052602936\n",
      "improved: 74.53482407572987\n",
      "improved: 72.93997532217844\n",
      "improved: 64.48751817212381\n",
      "iteration 3\n",
      "improved: 63.59874212592572\n",
      "improved: 58.80544192504635\n",
      "iteration 4\n",
      "iteration 5\n",
      "iteration 6\n",
      "iteration 7\n",
      "iteration 8\n",
      "iteration 9\n",
      "iteration 10\n",
      "iteration 11\n",
      "iteration 12\n",
      "iteration 13\n",
      "iteration 14\n",
      "improved: 57.93996893337102\n",
      "iteration 15\n",
      "iteration 16\n",
      "improved: 52.63610927870715\n",
      "iteration 17\n",
      "iteration 18\n",
      "iteration 19\n",
      "improved: 52.63610927870714\n",
      "improved: 3.343312556551121e-13\n",
      "took 19 iterations\n"
     ]
    }
   ],
   "source": [
    "b1 = A.dot(np.vstack((v[0], h)))\n",
    "b1 = b1[:b1.shape[0] - 1,]\n",
    "besterror = np.linalg.norm(np.vstack((b1[vec], np.array([[0, 0]]))) - A.dot(np.linalg.pinv(A)).dot(np.vstack((b1[vec], np.array([[0, 0]])))))\n",
    "print('initial: ' + str(besterror))\n",
    "for iteration in range(20):\n",
    "    print('iteration ' + str(iteration))\n",
    "    order = np.random.permutation(b1.shape[0])\n",
    "    for i in range(b1.shape[0]):\n",
    "        vectemp = vec\n",
    "        swapdistance = np.round(np.random.randn(1)[0] * rness)\n",
    "        swapind = int(min(max(order[i] + swapdistance, 0), b1.shape[0] - 1))\n",
    "        vec[order[i]] = vectemp[swapind]\n",
    "        vec[swapind] = vectemp[order[i]]\n",
    "        error = np.linalg.norm(np.vstack((b1[vec], np.array([[0, 0]]))) - A.dot(np.linalg.pinv(A)).dot(np.vstack((b1[vec], np.array([[0, 0]])))))\n",
    "        if error < besterror:\n",
    "            besterror = error\n",
    "            print('improved: ' + str(besterror))\n",
    "        else:\n",
    "            vec = vectemp\n",
    "    if besterror < 1e-1:\n",
    "        break\n",
    "print('took ' + str(iteration) + ' iterations')"
   ]
  },
  {
   "cell_type": "code",
   "execution_count": null,
   "metadata": {},
   "outputs": [],
   "source": []
  }
 ],
 "metadata": {
  "kernelspec": {
   "display_name": "Python 3",
   "language": "python",
   "name": "python3"
  },
  "language_info": {
   "codemirror_mode": {
    "name": "ipython",
    "version": 3
   },
   "file_extension": ".py",
   "mimetype": "text/x-python",
   "name": "python",
   "nbconvert_exporter": "python",
   "pygments_lexer": "ipython3",
   "version": "3.7.1"
  }
 },
 "nbformat": 4,
 "nbformat_minor": 2
}
