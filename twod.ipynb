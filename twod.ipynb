{
 "cells": [
  {
   "cell_type": "code",
   "execution_count": 56,
   "metadata": {},
   "outputs": [],
   "source": [
    "import numpy as np\n",
    "import numpy.fft as fft\n",
    "import matplotlib.pyplot as plt\n",
    "from scipy import signal\n",
    "from IPython import display\n",
    "from PIL import Image\n",
    "import math\n",
    "\n",
    "%matplotlib inline"
   ]
  },
  {
   "cell_type": "code",
   "execution_count": 57,
   "metadata": {},
   "outputs": [],
   "source": [
    "# number of points\n",
    "n = 3\n",
    "\n",
    "# range of points\n",
    "r = 50\n",
    "\n",
    "# number of images\n",
    "m = 3"
   ]
  },
  {
   "cell_type": "code",
   "execution_count": 58,
   "metadata": {},
   "outputs": [],
   "source": [
    "np.random.seed(805764)\n",
    "\n",
    "lst = list(range(0, r + 1))\n",
    "\n",
    "# psf\n",
    "h = np.sort(np.hstack((np.random.choice(lst, (n, 1)), np.random.choice(lst, (n, 1)))), axis=0)\n",
    "\n",
    "# each image\n",
    "v1 = np.sort(np.hstack((np.random.choice(lst, (n, 1)), np.random.choice(lst, (n, 1)))), axis=0)\n",
    "v2 = np.sort(np.hstack((np.random.choice(lst, (n, 1)), np.random.choice(lst, (n, 1)))), axis=0)\n",
    "v3 = np.sort(np.hstack((np.random.choice(lst, (n, 1)), np.random.choice(lst, (n, 1)))), axis=0)\n",
    "              "
   ]
  },
  {
   "cell_type": "code",
   "execution_count": 63,
   "metadata": {},
   "outputs": [],
   "source": [
    "# calculated convolutions\n",
    "b1 = np.empty((2, n, n))\n",
    "b2 = np.empty((2, n, n))\n",
    "b3 = np.empty((2, n, n))\n",
    "\n",
    "# Each x, y dimension\n",
    "for i in range(2):\n",
    "    # Each point of (x, y) in h\n",
    "    for j in range(n):\n",
    "        # Each point of (x, y) in v\n",
    "        for k in range(n):\n",
    "            b1[i, j, k] = h[j, i] + v1[k, i]\n",
    "            b2[i, j, k] = h[j, i] + v2[k, i]\n",
    "            b3[i, j, k] = h[j, i] + v3[k, i]\n",
    "            \n",
    "# each b is a (x, y) list of points of where it's 1\n",
    "b1 = np.hstack((np.reshape(b1[0], (b1.shape[1] * b1.shape[2], 1)), np.reshape(b1[1], (b1.shape[1] * b1.shape[2], 1))))\n",
    "b2 = np.hstack((np.reshape(b2[0], (b2.shape[1] * b2.shape[2], 1)), np.reshape(b2[1], (b2.shape[1] * b2.shape[2], 1))))\n",
    "b3 = np.hstack((np.reshape(b3[0], (b3.shape[1] * b3.shape[2], 1)), np.reshape(b3[1], (b3.shape[1] * b3.shape[2], 1))))\n"
   ]
  },
  {
   "cell_type": "code",
   "execution_count": 83,
   "metadata": {},
   "outputs": [],
   "source": [
    "# each row of A represents an equation like y[i] + x1[j].\n",
    "# each column of A represents a measurement x1, x2, x3\n",
    "A = np.array([\n",
    "     [1 ,0 ,0 ,1 ,0 ,0],\n",
    "     [1 ,0 ,0 ,0 ,1 ,0],\n",
    "     [1 ,0 ,0 ,0 ,0 ,1],\n",
    "     [0 ,1 ,0 ,1 ,0 ,0],\n",
    "     [0 ,1 ,0 ,0 ,1 ,0],\n",
    "     [0 ,1 ,0 ,0 ,0 ,1],\n",
    "     [0 ,0 ,1 ,1 ,0 ,0],\n",
    "     [0 ,0 ,1 ,0 ,1 ,0],\n",
    "     [0 ,0 ,1 ,0 ,0 ,1],\n",
    "     [0 ,0 ,0 ,1 ,0 ,0]\n",
    "])\n",
    "\n",
    "vec = np.random.permutation(9)\n",
    "rness = 3"
   ]
  },
  {
   "cell_type": "code",
   "execution_count": 84,
   "metadata": {},
   "outputs": [
    {
     "name": "stdout",
     "output_type": "stream",
     "text": [
      "initial: 36.823905279043935\n",
      "iteration 0\n",
      "improved: 34.227993741315835\n",
      "improved: 27.002057534771517\n",
      "improved: 19.316084259267225\n",
      "improved: 15.67021236472421\n",
      "improved: 7.211102550927983\n",
      "iteration 1\n",
      "improved: 7.211102550927981\n",
      "improved: 7.211102550927978\n",
      "iteration 2\n",
      "iteration 3\n",
      "improved: 8.788147155587888e-14\n",
      "took 3 iterations\n"
     ]
    }
   ],
   "source": [
    "b1 = A.dot(np.vstack((v1, h)))\n",
    "b1 = b1[:b1.shape[0] - 1,]\n",
    "besterror = np.linalg.norm(np.vstack((b1[vec], np.array([[0, 0]]))) - A.dot(np.linalg.pinv(A)).dot(np.vstack((b1[vec], np.array([[0, 0]])))))\n",
    "print('initial: ' + str(besterror))\n",
    "for iteration in range(20):\n",
    "    print('iteration ' + str(iteration))\n",
    "    order = np.random.permutation(b1.shape[0])\n",
    "    for i in range(b1.shape[0]):\n",
    "        vectemp = vec\n",
    "        swapdistance = np.round(np.random.randn(1)[0] * rness)\n",
    "        swapind = int(min(max(order[i] + swapdistance, 0), b1.shape[0] - 1))\n",
    "        vec[order[i]] = vectemp[swapind]\n",
    "        vec[swapind] = vectemp[order[i]]\n",
    "        error = np.linalg.norm(np.vstack((b1[vec], np.array([[0, 0]]))) - A.dot(np.linalg.pinv(A)).dot(np.vstack((b1[vec], np.array([[0, 0]])))))\n",
    "        if error < besterror:\n",
    "            besterror = error\n",
    "            print('improved: ' + str(besterror))\n",
    "        else:\n",
    "            vec = vectemp\n",
    "    if besterror < 1e-1:\n",
    "        break\n",
    "print('took ' + str(iteration) + ' iterations')"
   ]
  },
  {
   "cell_type": "code",
   "execution_count": null,
   "metadata": {},
   "outputs": [],
   "source": []
  }
 ],
 "metadata": {
  "kernelspec": {
   "display_name": "Python 3",
   "language": "python",
   "name": "python3"
  },
  "language_info": {
   "codemirror_mode": {
    "name": "ipython",
    "version": 3
   },
   "file_extension": ".py",
   "mimetype": "text/x-python",
   "name": "python",
   "nbconvert_exporter": "python",
   "pygments_lexer": "ipython3",
   "version": "3.7.1"
  }
 },
 "nbformat": 4,
 "nbformat_minor": 2
}
