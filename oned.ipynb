{
 "cells": [
  {
   "cell_type": "code",
   "execution_count": 2,
   "metadata": {},
   "outputs": [],
   "source": [
    "import numpy as np\n",
    "import numpy.fft as fft\n",
    "import matplotlib.pyplot as plt\n",
    "from scipy import signal\n",
    "from IPython import display\n",
    "from PIL import Image\n",
    "import math\n",
    "\n",
    "%matplotlib inline"
   ]
  },
  {
   "cell_type": "code",
   "execution_count": 3,
   "metadata": {},
   "outputs": [
    {
     "name": "stdout",
     "output_type": "stream",
     "text": [
      "[[ 4]\n",
      " [ 9]\n",
      " [22]\n",
      " [12]\n",
      " [13]\n",
      " [30]\n",
      " [24]\n",
      " [33]\n",
      " [40]\n",
      " [14]\n",
      " [20]\n",
      " [42]]\n"
     ]
    }
   ],
   "source": [
    "np.random.seed(805764)\n",
    "\n",
    "# psf\n",
    "y = np.expand_dims(np.sort(np.random.randint(1, 51, 3)), axis=1)\n",
    "\n",
    "# each image\n",
    "x1 = np.expand_dims(np.sort(np.random.randint(1, 51, 3)), axis=1)\n",
    "x2 = np.expand_dims(np.sort(np.random.randint(1, 51, 3)), axis=1)\n",
    "x3 = np.expand_dims(np.sort(np.random.randint(1, 51, 3)), axis=1)\n",
    "\n",
    "print(np.concatenate([y, x1, x2, x3]))"
   ]
  },
  {
   "cell_type": "code",
   "execution_count": 38,
   "metadata": {},
   "outputs": [
    {
     "name": "stdout",
     "output_type": "stream",
     "text": [
      "[[16.]\n",
      " [17.]\n",
      " [21.]\n",
      " [22.]\n",
      " [34.]\n",
      " [34.]\n",
      " [35.]\n",
      " [39.]\n",
      " [52.]\n",
      " [28.]\n",
      " [33.]\n",
      " [37.]\n",
      " [42.]\n",
      " [44.]\n",
      " [46.]\n",
      " [49.]\n",
      " [55.]\n",
      " [62.]\n",
      " [18.]\n",
      " [23.]\n",
      " [24.]\n",
      " [29.]\n",
      " [36.]\n",
      " [42.]\n",
      " [46.]\n",
      " [51.]\n",
      " [64.]]\n"
     ]
    }
   ],
   "source": [
    "# caculated convolutions\n",
    "b1 = np.empty((len(y), len(x1)))\n",
    "b2 = np.empty((len(y), len(x2)))\n",
    "b3 = np.empty((len(y), len(x3)))\n",
    "\n",
    "for i in range(len(y)):\n",
    "    for j in range(len(x1)):\n",
    "        b1[i,j] = y[i] + x1[j]\n",
    "        b2[i,j] = y[i] + x2[j]\n",
    "        b3[i,j] = y[i] + x3[j]\n",
    "        \n",
    "# each b is list of points of where it's 1: [3, 8, 10]\n",
    "b1 = np.expand_dims(np.sort(b1.flatten()), axis=1)\n",
    "b2 = np.expand_dims(np.sort(b2.flatten()), axis=1)\n",
    "b3 = np.expand_dims(np.sort(b3.flatten()), axis=1)\n",
    "\n",
    "print(np.concatenate([b1, b2, b3]))"
   ]
  },
  {
   "cell_type": "code",
   "execution_count": 40,
   "metadata": {},
   "outputs": [],
   "source": [
    "# each row of A represents an equation like y[i] + x1[j].\n",
    "# each column of A represents a measurement x1, x2, x3\n",
    "A = np.array([\n",
    "     [1 ,0 ,0 ,1 ,0 ,0],\n",
    "     [1 ,0 ,0 ,0 ,1 ,0],\n",
    "     [1 ,0 ,0 ,0 ,0 ,1],\n",
    "     [0 ,1 ,0 ,1 ,0 ,0],\n",
    "     [0 ,1 ,0 ,0 ,1 ,0],\n",
    "     [0 ,1 ,0 ,0 ,0 ,1],\n",
    "     [0 ,0 ,1 ,1 ,0 ,0],\n",
    "     [0 ,0 ,1 ,0 ,1 ,0],\n",
    "     [0 ,0 ,1 ,0 ,0 ,1],\n",
    "     [0 ,0 ,0 ,1 ,0 ,0]\n",
    "])\n",
    "\n",
    "vec = np.random.permutation(9)\n",
    "rness = 3"
   ]
  },
  {
   "cell_type": "code",
   "execution_count": 41,
   "metadata": {},
   "outputs": [
    {
     "name": "stdout",
     "output_type": "stream",
     "text": [
      "(3, 1)\n",
      "(3, 1)\n",
      "(9, 1)\n",
      "(10, 6)\n",
      "initial: [370.66666667]\n",
      "iteration 0\n",
      "improved: 19.252705437591533\n",
      "improved: 13.216151734399338\n",
      "improved: 11.850925889754116\n",
      "iteration 1\n",
      "improved: 11.680943645290158\n",
      "improved: 11.518101695447333\n",
      "iteration 2\n",
      "improved: 11.362707032706215\n",
      "improved: 9.36897954837013\n",
      "improved: 8.856886837057612\n",
      "iteration 3\n",
      "improved: 8.666666666666664\n",
      "iteration 4\n",
      "improved: 5.3126990493633696e-14\n"
     ]
    }
   ],
   "source": [
    "# b1 shape\n",
    "# b1 = A.dot()\n",
    "\n",
    "print(x1.shape)\n",
    "print(y.shape)\n",
    "print(b1.shape)\n",
    "print(A.shape)\n",
    "\n",
    "b1 = A.dot(np.vstack((x1, y)))\n",
    "b1 = b1[:len(b1)-1]\n",
    "b1 = np.sort(b1)\n",
    "bs = np.vstack((b1, np.array([0])))\n",
    "besterror = sum(pow(np.vstack((b1[vec], np.array([0]))) - A.dot(np.linalg.pinv(A)).dot(np.vstack((b1[vec], np.array([0])))),2))\n",
    "print('initial: ' + str(besterror))\n",
    "for iteration in range(20):\n",
    "    print('iteration ' + str(iteration))\n",
    "    order = np.random.permutation(b1.size)\n",
    "    for i in range(b1.size):\n",
    "        vectemp = vec\n",
    "        swapdistance = np.round(np.random.randn(1)[0] * rness)\n",
    "        swapind = int(min(max(order[i] + swapdistance, 0), b1.size - 1))\n",
    "        vec[order[i]] = vectemp[swapind]\n",
    "        vec[swapind] = vectemp[order[i]]\n",
    "        # error = sum(pow(np.vstack((b1[vec], np.array([0]))) - A.dot(np.linalg.pinv(A)).dot(np.vstack((b1[vec], np.array([0])))), 2))\n",
    "        error = np.linalg.norm(np.vstack((b1[vec], np.array([0]))) - A.dot(np.linalg.pinv(A)).dot(np.vstack((b1[vec], np.array([0])))))\n",
    "        if error < besterror:\n",
    "            besterror = error\n",
    "            print('improved: ' + str(besterror))\n",
    "        else:\n",
    "            vec = vectemp\n",
    "    if besterror < 1e-1:\n",
    "        break\n",
    "            \n"
   ]
  },
  {
   "cell_type": "code",
   "execution_count": null,
   "metadata": {},
   "outputs": [],
   "source": []
  }
 ],
 "metadata": {
  "kernelspec": {
   "display_name": "Python 3",
   "language": "python",
   "name": "python3"
  },
  "language_info": {
   "codemirror_mode": {
    "name": "ipython",
    "version": 3
   },
   "file_extension": ".py",
   "mimetype": "text/x-python",
   "name": "python",
   "nbconvert_exporter": "python",
   "pygments_lexer": "ipython3",
   "version": "3.7.1"
  }
 },
 "nbformat": 4,
 "nbformat_minor": 2
}
